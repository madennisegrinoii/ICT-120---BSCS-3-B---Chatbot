{
  "nbformat": 4,
  "nbformat_minor": 0,
  "metadata": {
    "colab": {
      "name": "FirstSecondTraining.ipynb",
      "provenance": [],
      "authorship_tag": "ABX9TyMC7eQgOjGcJD3hKwccsCY+",
      "include_colab_link": true
    },
    "kernelspec": {
      "name": "python3",
      "display_name": "Python 3"
    },
    "language_info": {
      "name": "python"
    }
  },
  "cells": [
    {
      "cell_type": "markdown",
      "metadata": {
        "id": "view-in-github",
        "colab_type": "text"
      },
      "source": [
        "<a href=\"https://colab.research.google.com/github/madennisegrinoii/ICT-120---BSCS-3-B---Chatbot/blob/main/FirstSecondTraining.ipynb\" target=\"_parent\"><img src=\"https://colab.research.google.com/assets/colab-badge.svg\" alt=\"Open In Colab\"/></a>"
      ]
    },
    {
      "cell_type": "code",
      "metadata": {
        "id": "oRVhD3a0LTmo"
      },
      "source": [
        "from sklearn.metrics import mean_squared_error"
      ],
      "execution_count": null,
      "outputs": []
    },
    {
      "cell_type": "code",
      "metadata": {
        "id": "klu6CbQ_LnVa"
      },
      "source": [
        "import math"
      ],
      "execution_count": null,
      "outputs": []
    },
    {
      "cell_type": "markdown",
      "metadata": {
        "id": "BRieHKLlL1Xx"
      },
      "source": [
        "#first training with overfitting"
      ]
    },
    {
      "cell_type": "code",
      "metadata": {
        "id": "aa7PHnsEL3pZ"
      },
      "source": [
        "trainingAccuracy = [0.4386920928955078, 0.6106948256492615, 0.6927793025970459, 0.7752043604850769, 0.8453678488731384, 0.9202997088432312, 0.9587874412536621, 0.9591280817985535, 0.9850136041641235, 0.9904631972312927]"
      ],
      "execution_count": null,
      "outputs": []
    },
    {
      "cell_type": "code",
      "metadata": {
        "id": "U8tXJ1ZKMQHB"
      },
      "source": [
        "validationAccuracy =  [0.5722070932388306, 0.6049046516418457, 0.6416893601417542, 0.6335150003433228, 0.6389645934104919, 0.6198909878730774, 0.5858310461044312, 0.6144413948059082, 0.6130790114402771, 0.6130790114402771]"
      ],
      "execution_count": null,
      "outputs": []
    },
    {
      "cell_type": "code",
      "metadata": {
        "id": "fft7OnnoMYwR"
      },
      "source": [
        "trainingLoss =[1.3594300746917725, 0.9980723857879639, 0.7990550398826599, 0.6195586323738098, 0.411776602268219, 0.2516178488731384, 0.13014957308769226, 0.13787661492824554, 0.065921850502491, 0.0377054437994957]"
      ],
      "execution_count": null,
      "outputs": []
    },
    {
      "cell_type": "code",
      "metadata": {
        "id": "X5rV1OI_Md8x"
      },
      "source": [
        "validationLoss = [1.1038720607757568, 1.0010794401168823, 0.9540247917175293, 0.9668806195259094, 1.1171032190322876, 1.2413949966430664, 1.6098625659942627, 1.6390355825424194, 1.9332191944122314, 2.170125722885132]"
      ],
      "execution_count": null,
      "outputs": []
    },
    {
      "cell_type": "code",
      "metadata": {
        "colab": {
          "base_uri": "https://localhost:8080/"
        },
        "id": "BjFpfOYxMmvC",
        "outputId": "c58c9ce4-34cd-4922-8f6d-364e3a11d442"
      },
      "source": [
        "print(\"The train mean squared error: \"+str(mean_squared_error(trainingAccuracy,validationAccuracy)))"
      ],
      "execution_count": null,
      "outputs": [
        {
          "output_type": "stream",
          "text": [
            "The train mean squared error: 0.0712053091752157\n"
          ],
          "name": "stdout"
        }
      ]
    },
    {
      "cell_type": "code",
      "metadata": {
        "colab": {
          "base_uri": "https://localhost:8080/"
        },
        "id": "cnyUSr0NMrva",
        "outputId": "30dd6f70-10d6-4dc5-9cde-18530c87a851"
      },
      "source": [
        "print(\"The validation mean squared error: \"+str(mean_squared_error(trainingLoss,validationLoss)))"
      ],
      "execution_count": null,
      "outputs": [
        {
          "output_type": "stream",
          "text": [
            "The validation mean squared error: 1.416415597081191\n"
          ],
          "name": "stdout"
        }
      ]
    },
    {
      "cell_type": "markdown",
      "metadata": {
        "id": "X_TXyhkjM0CZ"
      },
      "source": [
        "#second training with data augmmentation and dropout"
      ]
    },
    {
      "cell_type": "code",
      "metadata": {
        "id": "6OBPU7CnNAzZ"
      },
      "source": [
        "trainingAccuracy = [0.3879427909851074, 0.5626702904701233, 0.6280654072761536, 0.6549727320671082, 0.678814709186554, 0.6955040693283081, 0.7043596506118774, 0.725476861000061, 0.7285422086715698, 0.7438691854476929, 0.7530654072761536, 0.763283371925354, 0.7752043604850769, 0.7871253490447998, 0.7830381393432617]"
      ],
      "execution_count": null,
      "outputs": []
    },
    {
      "cell_type": "code",
      "metadata": {
        "id": "B7sbGGDtNFyx"
      },
      "source": [
        "validationAccuracy = [0.47956404089927673, 0.5667575001716614, 0.6376021504402161, 0.6212534308433533, 0.6294277906417847, 0.6594005227088928, 0.6689373254776001, 0.664850115776062, 0.7070844769477844, 0.7125340700149536, 0.7098092436790466, 0.7193460464477539, 0.7220708727836609, 0.720708429813385, 0.723433256149292]"
      ],
      "execution_count": null,
      "outputs": []
    },
    {
      "cell_type": "code",
      "metadata": {
        "id": "aezrrBc_NNc5"
      },
      "source": [
        "trainingLoss = [1.4472421407699585, 1.0801714658737183, 0.9693395495414734, 0.8950740098953247, 0.8417591452598572, 0.7917823195457458, 0.7728613018989563, 0.7226924896240234, 0.7145279049873352, 0.6714728474617004, 0.6440888047218323, 0.6296088099479675, 0.6020949482917786, 0.5700065493583679, 0.5604985356330872]"
      ],
      "execution_count": null,
      "outputs": []
    },
    {
      "cell_type": "code",
      "metadata": {
        "id": "whCn8LbkNRw6"
      },
      "source": [
        "validationLoss = [1.2209380865097046, 1.1082422733306885, 0.9196537137031555, 0.9786503911018372, 0.9671950936317444, 0.898727297782898, 0.8430177569389343, 0.8804550170898438, 0.8049322962760925, 0.7612789273262024, 0.7940347790718079, 0.7470208406448364, 0.7289096713066101, 0.7683680653572083, 0.7600080966949463]"
      ],
      "execution_count": null,
      "outputs": []
    },
    {
      "cell_type": "code",
      "metadata": {
        "colab": {
          "base_uri": "https://localhost:8080/"
        },
        "id": "TOAsylzxNYYy",
        "outputId": "46b098b1-2b22-4f7b-b5de-91b3269b12c7"
      },
      "source": [
        "print(\"The train mean squared error: \"+str(mean_squared_error(trainingAccuracy,validationAccuracy)))"
      ],
      "execution_count": null,
      "outputs": [
        {
          "output_type": "stream",
          "text": [
            "The train mean squared error: 0.0022895334243766404\n"
          ],
          "name": "stdout"
        }
      ]
    },
    {
      "cell_type": "code",
      "metadata": {
        "colab": {
          "base_uri": "https://localhost:8080/"
        },
        "id": "nJs8g9mPNikq",
        "outputId": "6165d618-d3f3-4154-9e53-318ceb2a75a3"
      },
      "source": [
        "print(\"The validation mean squared error: \"+str(mean_squared_error(trainingLoss,validationLoss)))"
      ],
      "execution_count": null,
      "outputs": [
        {
          "output_type": "stream",
          "text": [
            "The validation mean squared error: 0.01774522225557007\n"
          ],
          "name": "stdout"
        }
      ]
    }
  ]
}